{
  "nbformat": 4,
  "nbformat_minor": 0,
  "metadata": {
    "colab": {
      "provenance": [],
      "authorship_tag": "ABX9TyMJUvNO2g4fmVjADwONMu2x",
      "include_colab_link": true
    },
    "kernelspec": {
      "name": "python3",
      "display_name": "Python 3"
    },
    "language_info": {
      "name": "python"
    }
  },
  "cells": [
    {
      "cell_type": "markdown",
      "metadata": {
        "id": "view-in-github",
        "colab_type": "text"
      },
      "source": [
        "<a href=\"https://colab.research.google.com/github/rizqinursulistiasari/analisis-sentimen-rohingya/blob/main/analytical_workflow/4_imbalanced_data.ipynb\" target=\"_parent\"><img src=\"https://colab.research.google.com/assets/colab-badge.svg\" alt=\"Open In Colab\"/></a>"
      ]
    },
    {
      "cell_type": "markdown",
      "metadata": {
        "id": "l_Zq_vrGb-80"
      },
      "source": [
        "# **Penyeimbangan Kelas**"
      ]
    },
    {
      "cell_type": "code",
      "execution_count": null,
      "metadata": {
        "id": "o-THbYpnY7nu"
      },
      "outputs": [],
      "source": [
        "import numpy as np\n",
        "import pandas as pd\n",
        "from imblearn.over_sampling import SMOTE\n",
        "from collections import Counter\n",
        "\n",
        "# Menampilkan distribusi kelas sebelum SMOTE\n",
        "print(\"Distribusi kelas sebelum SMOTE:\", Counter(y_train))\n",
        "\n",
        "# Menerapkan SMOTE\n",
        "smote = SMOTE(random_state=42)\n",
        "X_train_res, y_train_res = smote.fit_resample(X_train_tfidf, y_train)\n",
        "\n",
        "# Menampilkan distribusi kelas setelah SMOTE\n",
        "print(\"Distribusi kelas setelah SMOTE:\", Counter(y_train_res))\n",
        "\n",
        "# Warna untuk setiap kategori\n",
        "colors = ['#3498db', '#e67e22', '#2ecc71']  # Biru, Oranye, Hijau\n",
        "\n",
        "# Mendapatkan label kelas unik\n",
        "labels = sorted(set(y_train))\n",
        "\n",
        "# Visualisasi distribusi kelas sebelum dan sesudah SMOTE\n",
        "fig, axes = plt.subplots(1, 2, figsize=(14, 7), sharey=True)\n",
        "\n",
        "# Distribusi kelas sebelum SMOTE\n",
        "for label, color in zip(labels, colors):\n",
        "    axes[0].hist([y for y in y_train if y == label], bins=np.arange(len(labels) + 1) - 0.5, rwidth=0.8, color=color, label=f'{label}')\n",
        "axes[0].set_title('Distribusi Kelas Sebelum SMOTE')\n",
        "axes[0].set_xticks(np.arange(len(labels)))\n",
        "axes[0].set_xticklabels(labels)\n",
        "axes[0].set_xlabel('Kategori Sentimen')\n",
        "axes[0].set_ylabel('Jumlah')\n",
        "axes[0].legend()\n",
        "\n",
        "# Distribusi kelas setelah SMOTE\n",
        "for label, color in zip(labels, colors):\n",
        "    axes[1].hist([y for y in y_train_res if y == label], bins=np.arange(len(labels) + 1) - 0.5, rwidth=0.8, color=color, label=f'{label}')\n",
        "axes[1].set_title('Distribusi Kelas Setelah SMOTE')\n",
        "axes[1].set_xticks(np.arange(len(labels)))\n",
        "axes[1].set_xticklabels(labels)\n",
        "axes[1].set_xlabel('Kategori Sentimen')\n",
        "axes[1].legend()\n",
        "\n",
        "plt.tight_layout()\n",
        "plt.show()"
      ]
    }
  ]
}