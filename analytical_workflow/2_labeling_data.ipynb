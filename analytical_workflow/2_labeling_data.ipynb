{
  "cells": [
    {
      "cell_type": "markdown",
      "metadata": {
        "id": "view-in-github",
        "colab_type": "text"
      },
      "source": [
        "<a href=\"https://colab.research.google.com/github/rizqinursulistiasari/analisis-sentimen-rohingya/blob/main/analytical_workflow/2_labeling_data.ipynb\" target=\"_parent\"><img src=\"https://colab.research.google.com/assets/colab-badge.svg\" alt=\"Open In Colab\"/></a>"
      ]
    },
    {
      "cell_type": "markdown",
      "source": [
        "# **Translate Data**"
      ],
      "metadata": {
        "id": "mphGHA9POs9b"
      }
    },
    {
      "cell_type": "code",
      "source": [
        "import pandas as pd\n",
        "\n",
        "df = pd.read_csv(\"Rohingya Preprocessing.csv\")\n",
        "df.head(15000)"
      ],
      "metadata": {
        "id": "JM9D_at1zIR-",
        "collapsed": true
      },
      "execution_count": null,
      "outputs": []
    },
    {
      "cell_type": "code",
      "source": [
        "#Menghapus data NaN\n",
        "df_cleaned = df.dropna()\n",
        "df_cleaned.info()"
      ],
      "metadata": {
        "id": "tpQS02e9j4a3"
      },
      "execution_count": null,
      "outputs": []
    },
    {
      "cell_type": "code",
      "source": [
        "# Simpan kembali ke file CSV\n",
        "df_cleaned.to_csv('Rohingya clean.csv', index=False)"
      ],
      "metadata": {
        "id": "IB49ctpgltdg"
      },
      "execution_count": null,
      "outputs": []
    },
    {
      "cell_type": "code",
      "source": [
        "df = pd.read_csv(\"Rohingya clean.csv\")\n",
        "df.head(15000)"
      ],
      "metadata": {
        "id": "YMSNNL6QmHdY",
        "collapsed": true
      },
      "execution_count": null,
      "outputs": []
    },
    {
      "cell_type": "code",
      "source": [
        "#Tahap Awal\n",
        "data = pd.DataFrame(df['Stemming'])\n",
        "data.head(15000)"
      ],
      "metadata": {
        "id": "BuinNfyA7sVx",
        "collapsed": true
      },
      "execution_count": null,
      "outputs": []
    },
    {
      "cell_type": "code",
      "execution_count": null,
      "metadata": {
        "id": "HQCUCPNh6RX4",
        "collapsed": true
      },
      "outputs": [],
      "source": [
        "!pip3 install googletrans==3.1.0a0"
      ]
    },
    {
      "cell_type": "code",
      "source": [
        "from googletrans import Translator\n",
        "\n",
        "# Inisialisasi objek Translator\n",
        "translator = Translator()\n",
        "\n",
        "# Fungsi untuk menerjemahkan teks\n",
        "def translate_text(text, target_language='en'):\n",
        "    translation = translator.translate(text, dest=target_language)\n",
        "    return translation.text\n",
        "\n",
        "data['Translate'] = data['Stemming'].apply(translate_text)\n",
        "data.head(15000)"
      ],
      "metadata": {
        "id": "W9Z6iRT_eBS0",
        "collapsed": true
      },
      "execution_count": null,
      "outputs": []
    },
    {
      "cell_type": "code",
      "source": [
        "def clean_text(text):\n",
        "    text = text.lower()  # Case folding\n",
        "    text = re.sub(r'http\\S+', '', text)  # Menghapus URL\n",
        "    text = re.sub(r'@\\w+', '', text)  # Menghapus mention\n",
        "    text = re.sub(r'#\\w+', '', text)  # Menghapus hashtag\n",
        "    text = re.sub(r'[^a-z\\s]', '', text)  # Menghapus karakter non-alfabet\n",
        "    text = re.sub(r'\\s+', ' ', text).strip()  # Menghapus spasi berlebih\n",
        "    return text\n",
        "\n",
        "data['Translate'] = data['Translate'].apply(clean_text)\n",
        "data.head(15000)"
      ],
      "metadata": {
        "id": "Iuy3PBeEKUQS"
      },
      "execution_count": null,
      "outputs": []
    },
    {
      "cell_type": "code",
      "execution_count": null,
      "metadata": {
        "id": "cXXwf1nhTngS"
      },
      "outputs": [],
      "source": [
        "data.to_csv('Translate Rohingya.csv', encoding='utf8', index=False)"
      ]
    },
    {
      "cell_type": "markdown",
      "source": [
        "# **Labelling TextBlob**"
      ],
      "metadata": {
        "id": "nVnr-WQRsk4I"
      }
    },
    {
      "cell_type": "code",
      "source": [
        "!pip install tweet-preprocessor\n",
        "!pip install textblob\n",
        "!pip install wordcloud\n",
        "!pip install nltk"
      ],
      "metadata": {
        "id": "VA9I16u8sw7W",
        "collapsed": true
      },
      "execution_count": null,
      "outputs": []
    },
    {
      "cell_type": "code",
      "source": [
        "import preprocessor as p\n",
        "from textblob import TextBlob\n",
        "import nltk\n",
        "from nltk.stem import PorterStemmer\n",
        "from nltk.tokenize import word_tokenize\n",
        "nltk.download('punkt')"
      ],
      "metadata": {
        "id": "7TqZWZaptJ4f"
      },
      "execution_count": null,
      "outputs": []
    },
    {
      "cell_type": "code",
      "source": [
        "data = pd.read_csv(\"Rohingya Translate.csv\")\n",
        "data.head(15000)"
      ],
      "metadata": {
        "id": "Ydp85xE8vE8k",
        "collapsed": true
      },
      "execution_count": null,
      "outputs": []
    },
    {
      "cell_type": "code",
      "source": [
        "# Fungsi untuk melakukan labelling data menggunakan TextBlob\n",
        "def label_data(text):\n",
        "    analysis = TextBlob(text)\n",
        "    if analysis.sentiment.polarity > 0:\n",
        "        return 'Positif'\n",
        "    elif analysis.sentiment.polarity < 0:\n",
        "        return 'Negatif'\n",
        "    else:\n",
        "        return 'Netral'\n",
        "\n",
        "# Melakukan labelling pada setiap data teks\n",
        "data['Label'] = data['Translate'].apply(label_data)\n",
        "\n",
        "# Menghitung jumlah data dengan sentimen positif, negatif, dan netral\n",
        "total_positif = len(data[data['Label'] == 'Positif'])\n",
        "total_negatif = len(data[data['Label'] == 'Negatif'])\n",
        "total_netral = len(data[data['Label'] == 'Netral'])\n",
        "total = len(data)\n",
        "\n",
        "# Menampilkan hasil analisis data\n",
        "print(f'Hasil Analisis Data:\\nPositif = {total_positif}\\nNegatif = {total_negatif}\\nNetral = {total_netral}')\n",
        "print(f'\\nTotal Data : {total}')\n",
        "data.head(15000)"
      ],
      "metadata": {
        "id": "OTGml9NfKtc6"
      },
      "execution_count": null,
      "outputs": []
    },
    {
      "cell_type": "code",
      "source": [
        "data['Klasifikasi'] = status\n",
        "data.head(15000)"
      ],
      "metadata": {
        "id": "TNtNYiK4u6i8"
      },
      "execution_count": null,
      "outputs": []
    },
    {
      "cell_type": "code",
      "source": [
        "data.to_csv('Rohingya Label TextBlob.csv', encoding='utf8', index=False)"
      ],
      "metadata": {
        "id": "rixbi6Mvz2em"
      },
      "execution_count": null,
      "outputs": []
    },
    {
      "cell_type": "code",
      "source": [
        "import pandas as pd\n",
        "import matplotlib.pyplot as plt\n",
        "\n",
        "# Menghitung frekuensi masing-masing klasifikasi\n",
        "counts = data['Label'].value_counts()\n",
        "\n",
        "# Warna untuk setiap kategori\n",
        "colors = ['#3498db', '#e67e22', '#2ecc71']\n",
        "\n",
        "# Membuat figure dengan dua subplot berdampingan\n",
        "fig, (ax1, ax2) = plt.subplots(1, 2, figsize=(14, 7))\n",
        "\n",
        "# Subplot 1: Diagram Batang (Bar Chart)\n",
        "counts.plot(kind='bar', ax=ax1, color=colors, legend=False)\n",
        "ax1.set_title('Distribusi Sentimen Publik')\n",
        "ax1.set_xlabel('Kategori Sentimen')\n",
        "ax1.set_ylabel('Jumlah')\n",
        "ax1.set_xticklabels(counts.index, rotation=0)\n",
        "\n",
        "# Subplot 2: Diagram Lingkaran (Pie Chart)\n",
        "ax2.pie(counts, labels=None, autopct='%1.1f%%', startangle=140, colors=colors, textprops={'color': 'white', 'fontsize': 15})\n",
        "ax2.legend(counts.index, loc='upper right')\n",
        "ax2.axis('equal')  # Pastikan diagram lingkaran menjadi lingkaran\n",
        "ax2.set_title('Distribusi Sentimen Publik')\n",
        "\n",
        "# Menampilkan visualisasi\n",
        "plt.tight_layout()\n",
        "plt.show()"
      ],
      "metadata": {
        "id": "U9D9yUfPPIgd"
      },
      "execution_count": null,
      "outputs": []
    }
  ],
  "metadata": {
    "colab": {
      "provenance": [],
      "collapsed_sections": [
        "SN6r50BI0LxR"
      ],
      "authorship_tag": "ABX9TyNec9QrY2+xfpnES9INm/qX",
      "include_colab_link": true
    },
    "kernelspec": {
      "display_name": "Python 3",
      "name": "python3"
    }
  },
  "nbformat": 4,
  "nbformat_minor": 0
}