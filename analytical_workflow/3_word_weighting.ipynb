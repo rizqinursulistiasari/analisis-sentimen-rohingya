{
  "nbformat": 4,
  "nbformat_minor": 0,
  "metadata": {
    "colab": {
      "provenance": [],
      "authorship_tag": "ABX9TyMiJWF4DSiOOUUeNqTXaqbt",
      "include_colab_link": true
    },
    "kernelspec": {
      "name": "python3",
      "display_name": "Python 3"
    },
    "language_info": {
      "name": "python"
    }
  },
  "cells": [
    {
      "cell_type": "markdown",
      "metadata": {
        "id": "view-in-github",
        "colab_type": "text"
      },
      "source": [
        "<a href=\"https://colab.research.google.com/github/rizqinursulistiasari/analisis-sentimen-rohingya/blob/main/analytical_workflow/3_word_weighting.ipynb\" target=\"_parent\"><img src=\"https://colab.research.google.com/assets/colab-badge.svg\" alt=\"Open In Colab\"/></a>"
      ]
    },
    {
      "cell_type": "markdown",
      "metadata": {
        "id": "AfRxEnkpAgV_"
      },
      "source": [
        "# **Pembobotan Kata**"
      ]
    },
    {
      "cell_type": "code",
      "source": [
        "import pandas as pd\n",
        "from sklearn.model_selection import train_test_split\n",
        "from sklearn.feature_extraction.text import TfidfVectorizer"
      ],
      "metadata": {
        "id": "MslbvcxXQAfj"
      },
      "execution_count": null,
      "outputs": []
    },
    {
      "cell_type": "code",
      "source": [
        "data = pd.read_csv(\"Rohingya Label TextBlob.csv\")\n",
        "data.head(15000)"
      ],
      "metadata": {
        "id": "_JMDZW1sUeLe"
      },
      "execution_count": null,
      "outputs": []
    },
    {
      "cell_type": "code",
      "source": [
        "#Membagi dataset menjadi data latih dan data uji\n",
        "X_train, X_test, y_train, y_test = train_test_split(data['Translate'], data['Label'], test_size=0.2, random_state=42)\n",
        "\n",
        "print(f'Jumlah Data Latih: {len(X_train)}')\n",
        "print(f'Jumlah Data Uji: {len(X_test)}')"
      ],
      "metadata": {
        "id": "nk2jrGw4UjOu"
      },
      "execution_count": null,
      "outputs": []
    },
    {
      "cell_type": "code",
      "source": [
        "# Membuat objek TfidfVectorizer\n",
        "tfidf_vectorizer = TfidfVectorizer()\n",
        "\n",
        "# Menghitung TF-IDF dari data latih dan uji\n",
        "X_train_tfidf = tfidf_vectorizer.fit_transform(X_train)\n",
        "X_test_tfidf = tfidf_vectorizer.transform(X_test)"
      ],
      "metadata": {
        "id": "6l6GUwf6VFSa"
      },
      "execution_count": null,
      "outputs": []
    },
    {
      "cell_type": "code",
      "source": [
        "# Mendapatkan daftar term\n",
        "terms = tfidf_vectorizer.get_feature_names_out()\n",
        "\n",
        "# Mendapatkan nilai IDF\n",
        "idf_values = tfidf_vectorizer.idf_\n",
        "\n",
        "# Menampilkan hasil TF-IDF\n",
        "print(\"Term Frequency (TF):\\n\", terms)\n",
        "print(\"\\nInverse Document Frequency (IDF):\\n\", idf_values)\n",
        "print(\"\\nTF-IDF:\\n\", X_train_tfidf)"
      ],
      "metadata": {
        "id": "VRuymX84VH8V"
      },
      "execution_count": null,
      "outputs": []
    }
  ]
}